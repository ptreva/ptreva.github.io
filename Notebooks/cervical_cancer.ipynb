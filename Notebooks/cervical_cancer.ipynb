{
 "cells": [
  {
   "cell_type": "markdown",
   "metadata": {},
   "source": [
    "# Cervical cancer prediction\n",
    "\n",
    "The aim of this project was to predict whether a patient's biopsy was positive for cervical cancer based on demographic information, habits, and historic medical records through the training of a few ML classification models and a Neural Network.\n",
    "&nbsp;\n",
    "\n",
    "The dataset is publicly available at UCI Machine Learning Repository and it was collected at 'Hospital Universitario de Caracas' in Caracas, Venezuela. It contains 858 patient's information and several patients decided not to answer some of the questions because of privacy concerns (missing values).\n",
    "&nbsp;\n",
    "\n",
    "Although it is the most preventable type of cancer, each year cervical cancer kills about 4,000 women in the U.S. and about 300,000 women worldwide."
   ]
  },
  {
   "cell_type": "markdown",
   "metadata": {
    "toc": true
   },
   "source": [
    "<h1>Table of Contents<span class=\"tocSkip\"></span></h1>\n",
    "<div class=\"toc\"><ul class=\"toc-item\"><li><span><a href=\"#-1.-Exploratory-data-analysis-\" data-toc-modified-id=\"-1.-Exploratory-data-analysis--1\"><span style=\"color: steelblue\"> 1. Exploratory data analysis </span></a></span></li><li><span><a href=\"#-2.-Data-preprocessing-\" data-toc-modified-id=\"-2.-Data-preprocessing--2\"><span style=\"color: steelblue\"> 2. Data preprocessing </span></a></span></li><li><span><a href=\"#-3.-Model-fitting-\" data-toc-modified-id=\"-3.-Model-fitting--3\"><span style=\"color: steelblue\"> 3. Model fitting </span></a></span></li></ul></div>"
   ]
  },
  {
   "cell_type": "code",
   "execution_count": 60,
   "metadata": {},
   "outputs": [],
   "source": [
    "import os\n",
    "import pandas as pd\n",
    "import numpy as np\n",
    "import seaborn as sns\n",
    "import matplotlib.pyplot as plt\n",
    "%matplotlib inline \n",
    "from sklearn.compose import ColumnTransformer\n",
    "from sklearn.metrics import confusion_matrix\n",
    "from sklearn.metrics import classification_report\n",
    "from sklearn.metrics import accuracy_score\n",
    "from sklearn.preprocessing import OneHotEncoder\n",
    "from sklearn.model_selection import train_test_split\n",
    "from sklearn.preprocessing import StandardScaler\n",
    "from sklearn.feature_selection import SelectFromModel\n",
    "from sklearn.linear_model import LogisticRegression\n",
    "from sklearn.neighbors import KNeighborsClassifier\n",
    "from sklearn import svm\n",
    "import warnings\n",
    "from sklearn.model_selection import cross_val_score\n",
    "from sklearn.model_selection import cross_val_predict\n",
    "from sklearn import metrics\n",
    "warnings.filterwarnings(\"ignore\")\n",
    "import tensorflow as tf\n",
    "import keras as keras\n",
    "from keras.models import Sequential\n",
    "from keras.layers import Dense\n",
    "from ann_visualizer.visualize import ann_viz"
   ]
  },
  {
   "cell_type": "markdown",
   "metadata": {},
   "source": [
    "## <span style='color:steelblue'> 1. Exploratory data analysis </span>"
   ]
  },
  {
   "cell_type": "code",
   "execution_count": 51,
   "metadata": {},
   "outputs": [],
   "source": [
    "cervical_cancer = pd.read_csv(\"risk_factors_cervical_cancer.csv\")"
   ]
  },
  {
   "cell_type": "markdown",
   "metadata": {},
   "source": [
    "First, some data cleaning was necessary due to the missing values aforementioned."
   ]
  },
  {
   "cell_type": "code",
   "execution_count": 52,
   "metadata": {},
   "outputs": [],
   "source": [
    "cervical_cancer = cervical_cancer.drop(\"STDs: Time since first diagnosis\", 1)\n",
    "cervical_cancer = cervical_cancer.drop(\"STDs: Time since last diagnosis\", 1)"
   ]
  },
  {
   "cell_type": "code",
   "execution_count": 53,
   "metadata": {},
   "outputs": [],
   "source": [
    "cervical_cancer = cervical_cancer.replace('?',np.NaN)"
   ]
  },
  {
   "cell_type": "code",
   "execution_count": 54,
   "metadata": {},
   "outputs": [],
   "source": [
    "cervical_cancer = cervical_cancer.dropna()  # all missing values elimination"
   ]
  },
  {
   "cell_type": "markdown",
   "metadata": {},
   "source": [
    "Then, upon a general exploration of the data it can be observed (below) that there was 668 rows of 34 columns left."
   ]
  },
  {
   "cell_type": "code",
   "execution_count": 37,
   "metadata": {},
   "outputs": [
    {
     "name": "stdout",
     "output_type": "stream",
     "text": [
      "<class 'pandas.core.frame.DataFrame'>\n",
      "Int64Index: 668 entries, 0 to 857\n",
      "Data columns (total 34 columns):\n",
      " #   Column                              Non-Null Count  Dtype \n",
      "---  ------                              --------------  ----- \n",
      " 0   Age                                 668 non-null    int64 \n",
      " 1   Number of sexual partners           668 non-null    object\n",
      " 2   First sexual intercourse            668 non-null    object\n",
      " 3   Num of pregnancies                  668 non-null    object\n",
      " 4   Smokes                              668 non-null    object\n",
      " 5   Smokes (years)                      668 non-null    object\n",
      " 6   Smokes (packs/year)                 668 non-null    object\n",
      " 7   Hormonal Contraceptives             668 non-null    object\n",
      " 8   Hormonal Contraceptives (years)     668 non-null    object\n",
      " 9   IUD                                 668 non-null    object\n",
      " 10  IUD (years)                         668 non-null    object\n",
      " 11  STDs                                668 non-null    object\n",
      " 12  STDs (number)                       668 non-null    object\n",
      " 13  STDs:condylomatosis                 668 non-null    object\n",
      " 14  STDs:cervical condylomatosis        668 non-null    object\n",
      " 15  STDs:vaginal condylomatosis         668 non-null    object\n",
      " 16  STDs:vulvo-perineal condylomatosis  668 non-null    object\n",
      " 17  STDs:syphilis                       668 non-null    object\n",
      " 18  STDs:pelvic inflammatory disease    668 non-null    object\n",
      " 19  STDs:genital herpes                 668 non-null    object\n",
      " 20  STDs:molluscum contagiosum          668 non-null    object\n",
      " 21  STDs:AIDS                           668 non-null    object\n",
      " 22  STDs:HIV                            668 non-null    object\n",
      " 23  STDs:Hepatitis B                    668 non-null    object\n",
      " 24  STDs:HPV                            668 non-null    object\n",
      " 25  STDs: Number of diagnosis           668 non-null    int64 \n",
      " 26  Dx:Cancer                           668 non-null    int64 \n",
      " 27  Dx:CIN                              668 non-null    int64 \n",
      " 28  Dx:HPV                              668 non-null    int64 \n",
      " 29  Dx                                  668 non-null    int64 \n",
      " 30  Hinselmann                          668 non-null    int64 \n",
      " 31  Schiller                            668 non-null    int64 \n",
      " 32  Citology                            668 non-null    int64 \n",
      " 33  Biopsy                              668 non-null    int64 \n",
      "dtypes: int64(10), object(24)\n",
      "memory usage: 182.7+ KB\n"
     ]
    }
   ],
   "source": [
    "cervical_cancer.info()"
   ]
  },
  {
   "cell_type": "code",
   "execution_count": 38,
   "metadata": {},
   "outputs": [
    {
     "data": {
      "text/html": [
       "<div>\n",
       "<style scoped>\n",
       "    .dataframe tbody tr th:only-of-type {\n",
       "        vertical-align: middle;\n",
       "    }\n",
       "\n",
       "    .dataframe tbody tr th {\n",
       "        vertical-align: top;\n",
       "    }\n",
       "\n",
       "    .dataframe thead th {\n",
       "        text-align: right;\n",
       "    }\n",
       "</style>\n",
       "<table border=\"1\" class=\"dataframe\">\n",
       "  <thead>\n",
       "    <tr style=\"text-align: right;\">\n",
       "      <th></th>\n",
       "      <th>Age</th>\n",
       "      <th>Number of sexual partners</th>\n",
       "      <th>First sexual intercourse</th>\n",
       "      <th>Num of pregnancies</th>\n",
       "      <th>Smokes</th>\n",
       "      <th>Smokes (years)</th>\n",
       "      <th>Smokes (packs/year)</th>\n",
       "      <th>Hormonal Contraceptives</th>\n",
       "      <th>Hormonal Contraceptives (years)</th>\n",
       "      <th>IUD</th>\n",
       "      <th>IUD (years)</th>\n",
       "      <th>STDs</th>\n",
       "      <th>STDs (number)</th>\n",
       "      <th>STDs:condylomatosis</th>\n",
       "      <th>STDs:cervical condylomatosis</th>\n",
       "      <th>STDs:vaginal condylomatosis</th>\n",
       "      <th>STDs:vulvo-perineal condylomatosis</th>\n",
       "      <th>STDs:syphilis</th>\n",
       "      <th>STDs:pelvic inflammatory disease</th>\n",
       "      <th>STDs:genital herpes</th>\n",
       "      <th>STDs:molluscum contagiosum</th>\n",
       "      <th>STDs:AIDS</th>\n",
       "      <th>STDs:HIV</th>\n",
       "      <th>STDs:Hepatitis B</th>\n",
       "      <th>STDs:HPV</th>\n",
       "      <th>STDs: Number of diagnosis</th>\n",
       "      <th>Dx:Cancer</th>\n",
       "      <th>Dx:CIN</th>\n",
       "      <th>Dx:HPV</th>\n",
       "      <th>Dx</th>\n",
       "      <th>Hinselmann</th>\n",
       "      <th>Schiller</th>\n",
       "      <th>Citology</th>\n",
       "      <th>Biopsy</th>\n",
       "    </tr>\n",
       "  </thead>\n",
       "  <tbody>\n",
       "    <tr>\n",
       "      <th>0</th>\n",
       "      <td>18</td>\n",
       "      <td>4.0</td>\n",
       "      <td>15.0</td>\n",
       "      <td>1.0</td>\n",
       "      <td>0.0</td>\n",
       "      <td>0.0</td>\n",
       "      <td>0.0</td>\n",
       "      <td>0.0</td>\n",
       "      <td>0.0</td>\n",
       "      <td>0.0</td>\n",
       "      <td>0.0</td>\n",
       "      <td>0.0</td>\n",
       "      <td>0.0</td>\n",
       "      <td>0.0</td>\n",
       "      <td>0.0</td>\n",
       "      <td>0.0</td>\n",
       "      <td>0.0</td>\n",
       "      <td>0.0</td>\n",
       "      <td>0.0</td>\n",
       "      <td>0.0</td>\n",
       "      <td>0.0</td>\n",
       "      <td>0.0</td>\n",
       "      <td>0.0</td>\n",
       "      <td>0.0</td>\n",
       "      <td>0.0</td>\n",
       "      <td>0</td>\n",
       "      <td>0</td>\n",
       "      <td>0</td>\n",
       "      <td>0</td>\n",
       "      <td>0</td>\n",
       "      <td>0</td>\n",
       "      <td>0</td>\n",
       "      <td>0</td>\n",
       "      <td>0</td>\n",
       "    </tr>\n",
       "    <tr>\n",
       "      <th>1</th>\n",
       "      <td>15</td>\n",
       "      <td>1.0</td>\n",
       "      <td>14.0</td>\n",
       "      <td>1.0</td>\n",
       "      <td>0.0</td>\n",
       "      <td>0.0</td>\n",
       "      <td>0.0</td>\n",
       "      <td>0.0</td>\n",
       "      <td>0.0</td>\n",
       "      <td>0.0</td>\n",
       "      <td>0.0</td>\n",
       "      <td>0.0</td>\n",
       "      <td>0.0</td>\n",
       "      <td>0.0</td>\n",
       "      <td>0.0</td>\n",
       "      <td>0.0</td>\n",
       "      <td>0.0</td>\n",
       "      <td>0.0</td>\n",
       "      <td>0.0</td>\n",
       "      <td>0.0</td>\n",
       "      <td>0.0</td>\n",
       "      <td>0.0</td>\n",
       "      <td>0.0</td>\n",
       "      <td>0.0</td>\n",
       "      <td>0.0</td>\n",
       "      <td>0</td>\n",
       "      <td>0</td>\n",
       "      <td>0</td>\n",
       "      <td>0</td>\n",
       "      <td>0</td>\n",
       "      <td>0</td>\n",
       "      <td>0</td>\n",
       "      <td>0</td>\n",
       "      <td>0</td>\n",
       "    </tr>\n",
       "    <tr>\n",
       "      <th>3</th>\n",
       "      <td>52</td>\n",
       "      <td>5.0</td>\n",
       "      <td>16.0</td>\n",
       "      <td>4.0</td>\n",
       "      <td>1.0</td>\n",
       "      <td>37.0</td>\n",
       "      <td>37.0</td>\n",
       "      <td>1.0</td>\n",
       "      <td>3.0</td>\n",
       "      <td>0.0</td>\n",
       "      <td>0.0</td>\n",
       "      <td>0.0</td>\n",
       "      <td>0.0</td>\n",
       "      <td>0.0</td>\n",
       "      <td>0.0</td>\n",
       "      <td>0.0</td>\n",
       "      <td>0.0</td>\n",
       "      <td>0.0</td>\n",
       "      <td>0.0</td>\n",
       "      <td>0.0</td>\n",
       "      <td>0.0</td>\n",
       "      <td>0.0</td>\n",
       "      <td>0.0</td>\n",
       "      <td>0.0</td>\n",
       "      <td>0.0</td>\n",
       "      <td>0</td>\n",
       "      <td>1</td>\n",
       "      <td>0</td>\n",
       "      <td>1</td>\n",
       "      <td>0</td>\n",
       "      <td>0</td>\n",
       "      <td>0</td>\n",
       "      <td>0</td>\n",
       "      <td>0</td>\n",
       "    </tr>\n",
       "    <tr>\n",
       "      <th>4</th>\n",
       "      <td>46</td>\n",
       "      <td>3.0</td>\n",
       "      <td>21.0</td>\n",
       "      <td>4.0</td>\n",
       "      <td>0.0</td>\n",
       "      <td>0.0</td>\n",
       "      <td>0.0</td>\n",
       "      <td>1.0</td>\n",
       "      <td>15.0</td>\n",
       "      <td>0.0</td>\n",
       "      <td>0.0</td>\n",
       "      <td>0.0</td>\n",
       "      <td>0.0</td>\n",
       "      <td>0.0</td>\n",
       "      <td>0.0</td>\n",
       "      <td>0.0</td>\n",
       "      <td>0.0</td>\n",
       "      <td>0.0</td>\n",
       "      <td>0.0</td>\n",
       "      <td>0.0</td>\n",
       "      <td>0.0</td>\n",
       "      <td>0.0</td>\n",
       "      <td>0.0</td>\n",
       "      <td>0.0</td>\n",
       "      <td>0.0</td>\n",
       "      <td>0</td>\n",
       "      <td>0</td>\n",
       "      <td>0</td>\n",
       "      <td>0</td>\n",
       "      <td>0</td>\n",
       "      <td>0</td>\n",
       "      <td>0</td>\n",
       "      <td>0</td>\n",
       "      <td>0</td>\n",
       "    </tr>\n",
       "    <tr>\n",
       "      <th>5</th>\n",
       "      <td>42</td>\n",
       "      <td>3.0</td>\n",
       "      <td>23.0</td>\n",
       "      <td>2.0</td>\n",
       "      <td>0.0</td>\n",
       "      <td>0.0</td>\n",
       "      <td>0.0</td>\n",
       "      <td>0.0</td>\n",
       "      <td>0.0</td>\n",
       "      <td>0.0</td>\n",
       "      <td>0.0</td>\n",
       "      <td>0.0</td>\n",
       "      <td>0.0</td>\n",
       "      <td>0.0</td>\n",
       "      <td>0.0</td>\n",
       "      <td>0.0</td>\n",
       "      <td>0.0</td>\n",
       "      <td>0.0</td>\n",
       "      <td>0.0</td>\n",
       "      <td>0.0</td>\n",
       "      <td>0.0</td>\n",
       "      <td>0.0</td>\n",
       "      <td>0.0</td>\n",
       "      <td>0.0</td>\n",
       "      <td>0.0</td>\n",
       "      <td>0</td>\n",
       "      <td>0</td>\n",
       "      <td>0</td>\n",
       "      <td>0</td>\n",
       "      <td>0</td>\n",
       "      <td>0</td>\n",
       "      <td>0</td>\n",
       "      <td>0</td>\n",
       "      <td>0</td>\n",
       "    </tr>\n",
       "  </tbody>\n",
       "</table>\n",
       "</div>"
      ],
      "text/plain": [
       "   Age Number of sexual partners First sexual intercourse Num of pregnancies  \\\n",
       "0   18                       4.0                     15.0                1.0   \n",
       "1   15                       1.0                     14.0                1.0   \n",
       "3   52                       5.0                     16.0                4.0   \n",
       "4   46                       3.0                     21.0                4.0   \n",
       "5   42                       3.0                     23.0                2.0   \n",
       "\n",
       "  Smokes Smokes (years) Smokes (packs/year) Hormonal Contraceptives  \\\n",
       "0    0.0            0.0                 0.0                     0.0   \n",
       "1    0.0            0.0                 0.0                     0.0   \n",
       "3    1.0           37.0                37.0                     1.0   \n",
       "4    0.0            0.0                 0.0                     1.0   \n",
       "5    0.0            0.0                 0.0                     0.0   \n",
       "\n",
       "  Hormonal Contraceptives (years)  IUD IUD (years) STDs STDs (number)  \\\n",
       "0                             0.0  0.0         0.0  0.0           0.0   \n",
       "1                             0.0  0.0         0.0  0.0           0.0   \n",
       "3                             3.0  0.0         0.0  0.0           0.0   \n",
       "4                            15.0  0.0         0.0  0.0           0.0   \n",
       "5                             0.0  0.0         0.0  0.0           0.0   \n",
       "\n",
       "  STDs:condylomatosis STDs:cervical condylomatosis  \\\n",
       "0                 0.0                          0.0   \n",
       "1                 0.0                          0.0   \n",
       "3                 0.0                          0.0   \n",
       "4                 0.0                          0.0   \n",
       "5                 0.0                          0.0   \n",
       "\n",
       "  STDs:vaginal condylomatosis STDs:vulvo-perineal condylomatosis  \\\n",
       "0                         0.0                                0.0   \n",
       "1                         0.0                                0.0   \n",
       "3                         0.0                                0.0   \n",
       "4                         0.0                                0.0   \n",
       "5                         0.0                                0.0   \n",
       "\n",
       "  STDs:syphilis STDs:pelvic inflammatory disease STDs:genital herpes  \\\n",
       "0           0.0                              0.0                 0.0   \n",
       "1           0.0                              0.0                 0.0   \n",
       "3           0.0                              0.0                 0.0   \n",
       "4           0.0                              0.0                 0.0   \n",
       "5           0.0                              0.0                 0.0   \n",
       "\n",
       "  STDs:molluscum contagiosum STDs:AIDS STDs:HIV STDs:Hepatitis B STDs:HPV  \\\n",
       "0                        0.0       0.0      0.0              0.0      0.0   \n",
       "1                        0.0       0.0      0.0              0.0      0.0   \n",
       "3                        0.0       0.0      0.0              0.0      0.0   \n",
       "4                        0.0       0.0      0.0              0.0      0.0   \n",
       "5                        0.0       0.0      0.0              0.0      0.0   \n",
       "\n",
       "   STDs: Number of diagnosis  Dx:Cancer  Dx:CIN  Dx:HPV  Dx  Hinselmann  \\\n",
       "0                          0          0       0       0   0           0   \n",
       "1                          0          0       0       0   0           0   \n",
       "3                          0          1       0       1   0           0   \n",
       "4                          0          0       0       0   0           0   \n",
       "5                          0          0       0       0   0           0   \n",
       "\n",
       "   Schiller  Citology  Biopsy  \n",
       "0         0         0       0  \n",
       "1         0         0       0  \n",
       "3         0         0       0  \n",
       "4         0         0       0  \n",
       "5         0         0       0  "
      ]
     },
     "execution_count": 38,
     "metadata": {},
     "output_type": "execute_result"
    }
   ],
   "source": [
    "pd.set_option('display.max_columns', None)  \n",
    "cervical_cancer.head()"
   ]
  },
  {
   "cell_type": "code",
   "execution_count": 18,
   "metadata": {},
   "outputs": [
    {
     "data": {
      "text/plain": [
       "['Age',\n",
       " 'Number of sexual partners',\n",
       " 'First sexual intercourse',\n",
       " 'Num of pregnancies',\n",
       " 'Smokes',\n",
       " 'Smokes (years)',\n",
       " 'Smokes (packs/year)',\n",
       " 'Hormonal Contraceptives',\n",
       " 'Hormonal Contraceptives (years)',\n",
       " 'IUD',\n",
       " 'IUD (years)',\n",
       " 'STDs',\n",
       " 'STDs (number)',\n",
       " 'STDs:condylomatosis',\n",
       " 'STDs:cervical condylomatosis',\n",
       " 'STDs:vaginal condylomatosis',\n",
       " 'STDs:vulvo-perineal condylomatosis',\n",
       " 'STDs:syphilis',\n",
       " 'STDs:pelvic inflammatory disease',\n",
       " 'STDs:genital herpes',\n",
       " 'STDs:molluscum contagiosum',\n",
       " 'STDs:AIDS',\n",
       " 'STDs:HIV',\n",
       " 'STDs:Hepatitis B',\n",
       " 'STDs:HPV',\n",
       " 'STDs: Number of diagnosis',\n",
       " 'Dx:Cancer',\n",
       " 'Dx:CIN',\n",
       " 'Dx:HPV',\n",
       " 'Dx',\n",
       " 'Hinselmann',\n",
       " 'Schiller',\n",
       " 'Citology',\n",
       " 'Biopsy']"
      ]
     },
     "execution_count": 18,
     "metadata": {},
     "output_type": "execute_result"
    }
   ],
   "source": [
    "list(cervical_cancer.columns)"
   ]
  },
  {
   "cell_type": "markdown",
   "metadata": {},
   "source": [
    "&nbsp;\n",
    "\n",
    "**Dataset description**\n",
    "&nbsp;\n",
    "\n",
    "Most of the columns are self explanatory, they are also binary (0 = 'No' and 1 = 'Yes') except the ones indicating the 'number of years'. The Dx columns towards the end refer to possible previous disease diagnoses and the 'Hinselmann', 'Schiller', and 'Citology' columns refer to tests to determine presence of precancerous conditions. The outcome variable is **'Biopsy'**, indicating whether it is positive (presence of cancer) or not. \n",
    "\n",
    "&nbsp;\n",
    "\n"
   ]
  },
  {
   "cell_type": "code",
   "execution_count": 28,
   "metadata": {},
   "outputs": [
    {
     "data": {
      "image/png": "[encoded data removed]",
      "text/plain": [
       "<Figure size 432x288 with 1 Axes>"
      ]
     },
     "metadata": {
      "needs_background": "light"
     },
     "output_type": "display_data"
    }
   ],
   "source": [
    "# Boxplot of diagnosis distribution by age\n",
    "\n",
    "sns.boxplot(data = cervical_cancer, x = 'Biopsy', y = 'Age', palette = 'twilight_r')\n",
    "\n",
    "plt.show()"
   ]
  },
  {
   "cell_type": "markdown",
   "metadata": {},
   "source": [
    "It can be observed in the boxplot above that most of the patients with a positive biopsy in this case are in an age range of around 25 to 35 years old.\n",
    "\n",
    "&nbsp;\n",
    "\n"
   ]
  },
  {
   "cell_type": "code",
   "execution_count": 30,
   "metadata": {},
   "outputs": [
    {
     "data": {
      "image/png": "[encoded data removed]",
      "text/plain": [
       "<Figure size 1080x288 with 3 Axes>"
      ]
     },
     "metadata": {
      "needs_background": "light"
     },
     "output_type": "display_data"
    }
   ],
   "source": [
    "# Countplots of risk factors\n",
    "\n",
    "fig, axes = plt.subplots(1, 3, sharex=True, figsize=(15,4))\n",
    "\n",
    "sns.countplot(data = cervical_cancer, x = 'STDs', palette = 'twilight_r', ax=axes[0])\n",
    "sns.countplot(data = cervical_cancer, x = 'Smokes', palette = 'twilight_r', ax=axes[1])\n",
    "sns.countplot(data = cervical_cancer, x = 'Hormonal Contraceptives', palette = 'twilight_r', ax=axes[2])\n",
    "\n",
    "plt.show()"
   ]
  },
  {
   "cell_type": "markdown",
   "metadata": {},
   "source": [
    "The plot above shows the distributions of some of the most significant risk factors for cervical cancer (according to the dataset's description). HPV is also an important risk factor, however, there was very few ocurrences on this dataset. Analysis' important features were later elucidated by plotting the best performing model. \n",
    "\n",
    "&nbsp;\n"
   ]
  },
  {
   "cell_type": "markdown",
   "metadata": {},
   "source": [
    "## <span style='color:steelblue'> 2. Data preprocessing </span>"
   ]
  },
  {
   "cell_type": "markdown",
   "metadata": {},
   "source": [
    "All the necessary preprocessing steps for machine learning were followed below. A matrix of features and dependent variable vector were created. The dataset was split into train and test sets and feature scaling for the non binary columns was performed."
   ]
  },
  {
   "cell_type": "code",
   "execution_count": 55,
   "metadata": {},
   "outputs": [],
   "source": [
    "# Creating the matrix of features and dependent variable vector \n",
    "\n",
    "X = cervical_cancer.loc[:, cervical_cancer.columns != 'Biopsy']\n",
    "y = cervical_cancer.loc[:, 'Biopsy']"
   ]
  },
  {
   "cell_type": "code",
   "execution_count": 56,
   "metadata": {},
   "outputs": [],
   "source": [
    "# Data set splitting\n",
    "\n",
    "X_train, X_test, y_train, y_test = train_test_split(X, y, test_size=0.2, random_state = 1)"
   ]
  },
  {
   "cell_type": "code",
   "execution_count": 57,
   "metadata": {},
   "outputs": [],
   "source": [
    "# Feature scaling \n",
    "\n",
    "sc = StandardScaler()\n",
    "X_train.iloc[:,[0,1,2,3,5,6,8,10,12,25]] = sc.fit_transform(X_train.iloc[:,[0,1,2,3,5,6,8,10,12,25]])\n",
    "X_test.iloc[:,[0,1,2,3,5,6,8,10,12,25]] = sc.transform(X_test.iloc[:,[0,1,2,3,5,6,8,10,12,25]])"
   ]
  },
  {
   "cell_type": "markdown",
   "metadata": {},
   "source": [
    "## <span style='color:steelblue'> 3. Model fitting </span> "
   ]
  },
  {
   "cell_type": "markdown",
   "metadata": {},
   "source": [
    "The following classification models were fit:\n",
    "\n",
    "- Logistic Regression: which combines the input values linearly using weights or coefficient values to predict the output binary value. \n",
    "\n",
    "&nbsp;\n",
    "\n",
    "- K-nearest Neighbors: which works by finding the distances between a query and all the examples in the data, selecting the specified number examples (K) closest to the query, then votes for the most frequent label (in the case of classification).\n",
    "\n",
    "&nbsp;\n",
    "\n",
    "- Support Vector Classifier: which uses a technique called the kernel trick to transform the data and then based on these transformations it finds an optimal boundary between the possible outputs."
   ]
  },
  {
   "cell_type": "code",
   "execution_count": 62,
   "metadata": {},
   "outputs": [
    {
     "name": "stdout",
     "output_type": "stream",
     "text": [
      "Test Accuracy: 0.948\n",
      "Accuracy: 0.940 +/- 0.018\n"
     ]
    }
   ],
   "source": [
    "# Logistic Regression\n",
    "\n",
    "log_class = LogisticRegression()\n",
    "log_class.fit(X_train, y_train)  # fit\n",
    "\n",
    "log_ypred = log_class.predict(X_test)  # computing predictions\n",
    "print('Test Accuracy: %.3f' % log_class.score(X_test, y_test)) # accuracy\n",
    "\n",
    "# k-fold cross validation and performance report\n",
    "scores = cross_val_score(log_class, X_train, y_train, scoring='accuracy', cv=10, n_jobs=-1)\n",
    "print('Accuracy: %.3f +/- %.3f' % (np.mean(scores), np.std(scores)))"
   ]
  },
  {
   "cell_type": "code",
   "execution_count": 64,
   "metadata": {},
   "outputs": [
    {
     "name": "stdout",
     "output_type": "stream",
     "text": [
      "Test Accuracy: 0.948\n",
      "Accuracy: 0.929 +/- 0.016\n"
     ]
    }
   ],
   "source": [
    "# K nearest neighbors\n",
    "\n",
    "knn_class = KNeighborsClassifier(n_neighbors = 5, metric = 'minkowski', p = 2)\n",
    "knn_class.fit(X_train, y_train)  # fit\n",
    "\n",
    "knn_ypred = knn_class.predict(X_test)  # computing predictions\n",
    "print('Test Accuracy: %.3f' % knn_class.score(X_test, y_test)) # accuracy\n",
    "\n",
    "# Cross validation and performance report\n",
    "scores = cross_val_score(knn_class, X_train, y_train, scoring='accuracy', cv=10, n_jobs=-1)\n",
    "print('Accuracy: %.3f +/- %.3f' % (np.mean(scores), np.std(scores)))"
   ]
  },
  {
   "cell_type": "code",
   "execution_count": 63,
   "metadata": {},
   "outputs": [
    {
     "name": "stdout",
     "output_type": "stream",
     "text": [
      "Test Accuracy: 0.940\n",
      "Accuracy: 0.961 +/- 0.024\n"
     ]
    }
   ],
   "source": [
    "# Support vector machine\n",
    "\n",
    "sv_class = svm.SVC(kernel = 'linear', random_state = 0)\n",
    "sv_class.fit(X_train, y_train)\n",
    "\n",
    "svc_ypred = sv_class.predict(X_test)  #computing predictions\n",
    "print('Test Accuracy: %.3f' % sv_class.score(X_test, y_test)) # accuracy\n",
    "\n",
    "# Cross validation and performance report\n",
    "scores = cross_val_score(sv_class, X_train, y_train, scoring='accuracy', cv=10, n_jobs=-1)\n",
    "print('Accuracy: %.3f +/- %.3f' % (np.mean(scores), np.std(scores)))"
   ]
  },
  {
   "cell_type": "markdown",
   "metadata": {},
   "source": [
    "&nbsp;\n",
    "\n",
    "The 3 models appear to have achieved a similar accuracy, with the SVC being the higest one. However, to further investigate the model's performance their ROC curve and AUC score was plotted below."
   ]
  },
  {
   "cell_type": "code",
   "execution_count": 47,
   "metadata": {
    "scrolled": true
   },
   "outputs": [
    {
     "data": {
      "image/png": "[encoded data removed]",
      "text/plain": [
       "<Figure size 1008x288 with 3 Axes>"
      ]
     },
     "metadata": {},
     "output_type": "display_data"
    }
   ],
   "source": [
    "# ROC Curves\n",
    "\n",
    "plt.style.use('seaborn-whitegrid')\n",
    "fig, [ax_log, ax_knn, ax_svc] = plt.subplots(1, 3, figsize=(14, 4))\n",
    "ax_log = metrics.plot_roc_curve(log_class, X_test, y_test, ax=ax_log, linestyle='--', color='r')\n",
    "ax_knn = metrics.plot_roc_curve(knn_class, X_test, y_test, ax=ax_knn, linestyle='--', color='b')\n",
    "ax_svc = metrics.plot_roc_curve(sv_class, X_test, y_test, ax=ax_svc, linestyle='--', color='g')\n",
    "\n",
    "\n",
    "plt.show()"
   ]
  },
  {
   "cell_type": "markdown",
   "metadata": {},
   "source": [
    "The accuracy is simply the proportion of true positives and negatives in the whole data set. Whereas,  AUC measures how true positive rate (recall) and false positive rate trade off (so it indicates how much the model is capable of distinguishing between classes). Logistic Regression obtained the largest AUC (0.85). It is important to note that in a real medical setting there is a high cost of non detection of a true positive, so the sensitivity (True Positive Rate) should be optimized as much as possible. "
   ]
  },
  {
   "cell_type": "markdown",
   "metadata": {},
   "source": [
    "&nbsp;\n",
    "\n",
    "Below, feature importance of the Logistic Regression model was plotted. It can be observed that in this analysis among the most important risk factors for prediction are the precancerous conditions tests, previous diagnoses, smoking and some STDs."
   ]
  },
  {
   "cell_type": "code",
   "execution_count": 49,
   "metadata": {},
   "outputs": [
    {
     "data": {
      "text/plain": [
       "Text(0.5, 0, 'Importance')"
      ]
     },
     "execution_count": 49,
     "metadata": {},
     "output_type": "execute_result"
    },
    {
     "data": {
      "image/png": "[encoded data removed]",
      "text/plain": [
       "<Figure size 648x504 with 1 Axes>"
      ]
     },
     "metadata": {},
     "output_type": "display_data"
    }
   ],
   "source": [
    "# Logistic regression feature importance plot\n",
    "\n",
    "coeff = list(log_class.coef_[0])\n",
    "labels = list(X_train.columns)\n",
    " \n",
    "features = pd.DataFrame()\n",
    "features['Features'] = labels\n",
    "features['importance'] = coeff\n",
    "features.sort_values(by=['importance'], ascending=True, inplace=True)\n",
    "features['positive'] = features['importance'] > 0\n",
    "features.set_index('Features', inplace=True)\n",
    "features.importance.plot(kind='barh', figsize=(9, 7),color = features.positive.map({True: 'blue', False: 'red'}))\n",
    "plt.xlabel('Importance')"
   ]
  },
  {
   "cell_type": "markdown",
   "metadata": {},
   "source": [
    "&nbsp;\n",
    "\n",
    "\n",
    "\n",
    "A Neural Network was also implemented for cancer prediction."
   ]
  },
  {
   "cell_type": "markdown",
   "metadata": {},
   "source": [
    "Neural networks group unlabeled data according to similarities among the inputs.They are trained by adjusting neuron input weights based on the network's performance on example inputs. If the network classifies an instance correctly, weights contributing to the correct answer are increased, while other weights are decreased. The application of NNs for medical science  is a growing area with great potential to obtain predictions about many diseases, not only cancer."
   ]
  },
  {
   "cell_type": "code",
   "execution_count": 117,
   "metadata": {},
   "outputs": [],
   "source": [
    "# Initializing the Neural Network\n",
    "ann = tf.keras.models.Sequential()"
   ]
  },
  {
   "cell_type": "code",
   "execution_count": 118,
   "metadata": {},
   "outputs": [],
   "source": [
    "# Input layer and first hidden layer\n",
    "ann.add(tf.keras.layers.Dense(units=6, activation='relu'))"
   ]
  },
  {
   "cell_type": "code",
   "execution_count": 119,
   "metadata": {},
   "outputs": [],
   "source": [
    "# Second hidden layer\n",
    "ann.add(tf.keras.layers.Dense(units=6, activation='relu'))"
   ]
  },
  {
   "cell_type": "code",
   "execution_count": 120,
   "metadata": {},
   "outputs": [],
   "source": [
    "# Output layer \n",
    "ann.add(tf.keras.layers.Dense(units=1, activation='sigmoid'))"
   ]
  },
  {
   "cell_type": "code",
   "execution_count": 121,
   "metadata": {},
   "outputs": [],
   "source": [
    "# Compiling \n",
    "ann.compile(optimizer= 'adam', loss= 'binary_crossentropy', metrics= ['accuracy'])"
   ]
  },
  {
   "cell_type": "code",
   "execution_count": 122,
   "metadata": {},
   "outputs": [],
   "source": [
    "X_train = np.asarray(X_train).astype('float32')\n",
    "y_train = np.asarray(y_train).astype('float32')"
   ]
  },
  {
   "cell_type": "code",
   "execution_count": 123,
   "metadata": {},
   "outputs": [
    {
     "name": "stdout",
     "output_type": "stream",
     "text": [
      "Epoch 1/100\n",
      "17/17 [==============================] - 0s 1ms/step - loss: 0.8882 - accuracy: 0.2466\n",
      "Epoch 2/100\n",
      "17/17 [==============================] - 0s 1ms/step - loss: 0.8143 - accuracy: 0.3928\n",
      "Epoch 3/100\n",
      "17/17 [==============================] - 0s 1ms/step - loss: 0.7131 - accuracy: 0.5949\n",
      "Epoch 4/100\n",
      "17/17 [==============================] - 0s 1ms/step - loss: 0.6478 - accuracy: 0.7885\n",
      "Epoch 5/100\n",
      "17/17 [==============================] - 0s 1ms/step - loss: 0.5857 - accuracy: 0.8766\n",
      "Epoch 6/100\n",
      "17/17 [==============================] - 0s 1ms/step - loss: 0.5408 - accuracy: 0.8749\n",
      "Epoch 7/100\n",
      "17/17 [==============================] - 0s 1ms/step - loss: 0.4925 - accuracy: 0.9109\n",
      "Epoch 8/100\n",
      "17/17 [==============================] - 0s 1ms/step - loss: 0.4427 - accuracy: 0.9309\n",
      "Epoch 9/100\n",
      "17/17 [==============================] - 0s 1ms/step - loss: 0.4048 - accuracy: 0.9400\n",
      "Epoch 10/100\n",
      "17/17 [==============================] - 0s 1ms/step - loss: 0.4008 - accuracy: 0.9185\n",
      "Epoch 11/100\n",
      "17/17 [==============================] - 0s 1ms/step - loss: 0.3587 - accuracy: 0.9304\n",
      "Epoch 12/100\n",
      "17/17 [==============================] - 0s 1ms/step - loss: 0.3082 - accuracy: 0.9519\n",
      "Epoch 13/100\n",
      "17/17 [==============================] - 0s 1ms/step - loss: 0.3311 - accuracy: 0.9216\n",
      "Epoch 14/100\n",
      "17/17 [==============================] - 0s 1ms/step - loss: 0.2857 - accuracy: 0.9423\n",
      "Epoch 15/100\n",
      "17/17 [==============================] - 0s 1ms/step - loss: 0.2899 - accuracy: 0.9237\n",
      "Epoch 16/100\n",
      "17/17 [==============================] - 0s 1ms/step - loss: 0.2612 - accuracy: 0.9377\n",
      "Epoch 17/100\n",
      "17/17 [==============================] - 0s 1ms/step - loss: 0.2475 - accuracy: 0.9353\n",
      "Epoch 18/100\n",
      "17/17 [==============================] - 0s 1ms/step - loss: 0.2337 - accuracy: 0.9399\n",
      "Epoch 19/100\n",
      "17/17 [==============================] - 0s 1ms/step - loss: 0.2248 - accuracy: 0.9371\n",
      "Epoch 20/100\n",
      "17/17 [==============================] - 0s 1ms/step - loss: 0.2196 - accuracy: 0.9404\n",
      "Epoch 21/100\n",
      "17/17 [==============================] - 0s 1ms/step - loss: 0.2004 - accuracy: 0.9431\n",
      "Epoch 22/100\n",
      "17/17 [==============================] - 0s 1ms/step - loss: 0.2566 - accuracy: 0.9115\n",
      "Epoch 23/100\n",
      "17/17 [==============================] - 0s 1ms/step - loss: 0.2277 - accuracy: 0.9232\n",
      "Epoch 24/100\n",
      "17/17 [==============================] - 0s 1ms/step - loss: 0.2045 - accuracy: 0.9312\n",
      "Epoch 25/100\n",
      "17/17 [==============================] - 0s 1ms/step - loss: 0.2048 - accuracy: 0.9372\n",
      "Epoch 26/100\n",
      "17/17 [==============================] - 0s 1ms/step - loss: 0.2155 - accuracy: 0.9216\n",
      "Epoch 27/100\n",
      "17/17 [==============================] - 0s 1ms/step - loss: 0.1816 - accuracy: 0.9349\n",
      "Epoch 28/100\n",
      "17/17 [==============================] - 0s 1ms/step - loss: 0.1698 - accuracy: 0.9468\n",
      "Epoch 29/100\n",
      "17/17 [==============================] - 0s 1ms/step - loss: 0.1749 - accuracy: 0.9382\n",
      "Epoch 30/100\n",
      "17/17 [==============================] - 0s 1ms/step - loss: 0.1723 - accuracy: 0.9332\n",
      "Epoch 31/100\n",
      "17/17 [==============================] - 0s 1ms/step - loss: 0.1825 - accuracy: 0.9303\n",
      "Epoch 32/100\n",
      "17/17 [==============================] - 0s 935us/step - loss: 0.1749 - accuracy: 0.9321\n",
      "Epoch 33/100\n",
      "17/17 [==============================] - 0s 1ms/step - loss: 0.1971 - accuracy: 0.9165\n",
      "Epoch 34/100\n",
      "17/17 [==============================] - 0s 1ms/step - loss: 0.1708 - accuracy: 0.9346\n",
      "Epoch 35/100\n",
      "17/17 [==============================] - 0s 1ms/step - loss: 0.1374 - accuracy: 0.9469\n",
      "Epoch 36/100\n",
      "17/17 [==============================] - 0s 1ms/step - loss: 0.1416 - accuracy: 0.9491\n",
      "Epoch 37/100\n",
      "17/17 [==============================] - 0s 1ms/step - loss: 0.1501 - accuracy: 0.9383\n",
      "Epoch 38/100\n",
      "17/17 [==============================] - 0s 935us/step - loss: 0.1337 - accuracy: 0.9442\n",
      "Epoch 39/100\n",
      "17/17 [==============================] - 0s 1ms/step - loss: 0.1442 - accuracy: 0.9381\n",
      "Epoch 40/100\n",
      "17/17 [==============================] - 0s 997us/step - loss: 0.1545 - accuracy: 0.9306\n",
      "Epoch 41/100\n",
      "17/17 [==============================] - 0s 1ms/step - loss: 0.1446 - accuracy: 0.9356\n",
      "Epoch 42/100\n",
      "17/17 [==============================] - 0s 998us/step - loss: 0.1412 - accuracy: 0.9398\n",
      "Epoch 43/100\n",
      "17/17 [==============================] - 0s 997us/step - loss: 0.1551 - accuracy: 0.9234\n",
      "Epoch 44/100\n",
      "17/17 [==============================] - 0s 997us/step - loss: 0.1294 - accuracy: 0.9490\n",
      "Epoch 45/100\n",
      "17/17 [==============================] - 0s 1ms/step - loss: 0.1531 - accuracy: 0.9364\n",
      "Epoch 46/100\n",
      "17/17 [==============================] - 0s 1ms/step - loss: 0.1214 - accuracy: 0.9571\n",
      "Epoch 47/100\n",
      "17/17 [==============================] - 0s 1ms/step - loss: 0.1213 - accuracy: 0.9473\n",
      "Epoch 48/100\n",
      "17/17 [==============================] - 0s 935us/step - loss: 0.1081 - accuracy: 0.9609\n",
      "Epoch 49/100\n",
      "17/17 [==============================] - 0s 997us/step - loss: 0.1068 - accuracy: 0.9592\n",
      "Epoch 50/100\n",
      "17/17 [==============================] - 0s 1ms/step - loss: 0.1096 - accuracy: 0.9588\n",
      "Epoch 51/100\n",
      "17/17 [==============================] - 0s 1ms/step - loss: 0.1496 - accuracy: 0.9385\n",
      "Epoch 52/100\n",
      "17/17 [==============================] - 0s 1ms/step - loss: 0.1173 - accuracy: 0.9496\n",
      "Epoch 53/100\n",
      "17/17 [==============================] - 0s 1ms/step - loss: 0.1193 - accuracy: 0.9502\n",
      "Epoch 54/100\n",
      "17/17 [==============================] - 0s 1ms/step - loss: 0.1135 - accuracy: 0.9495\n",
      "Epoch 55/100\n",
      "17/17 [==============================] - 0s 1ms/step - loss: 0.1030 - accuracy: 0.9536\n",
      "Epoch 56/100\n",
      "17/17 [==============================] - 0s 1ms/step - loss: 0.0877 - accuracy: 0.9680\n",
      "Epoch 57/100\n",
      "17/17 [==============================] - 0s 1ms/step - loss: 0.0947 - accuracy: 0.9600\n",
      "Epoch 58/100\n",
      "17/17 [==============================] - 0s 935us/step - loss: 0.0919 - accuracy: 0.9607\n",
      "Epoch 59/100\n",
      "17/17 [==============================] - 0s 873us/step - loss: 0.0953 - accuracy: 0.9645\n",
      "Epoch 60/100\n",
      "17/17 [==============================] - 0s 873us/step - loss: 0.0872 - accuracy: 0.9709\n",
      "Epoch 61/100\n",
      "17/17 [==============================] - 0s 873us/step - loss: 0.1092 - accuracy: 0.9579\n",
      "Epoch 62/100\n",
      "17/17 [==============================] - 0s 997us/step - loss: 0.0959 - accuracy: 0.9584\n",
      "Epoch 63/100\n",
      "17/17 [==============================] - 0s 1ms/step - loss: 0.0737 - accuracy: 0.9732\n",
      "Epoch 64/100\n",
      "17/17 [==============================] - 0s 1ms/step - loss: 0.0774 - accuracy: 0.9655\n",
      "Epoch 65/100\n",
      "17/17 [==============================] - 0s 1ms/step - loss: 0.0933 - accuracy: 0.9555\n",
      "Epoch 66/100\n",
      "17/17 [==============================] - 0s 997us/step - loss: 0.0786 - accuracy: 0.9697\n",
      "Epoch 67/100\n",
      "17/17 [==============================] - 0s 1ms/step - loss: 0.0676 - accuracy: 0.9746\n",
      "Epoch 68/100\n",
      "17/17 [==============================] - 0s 1ms/step - loss: 0.0852 - accuracy: 0.9690\n",
      "Epoch 69/100\n",
      "17/17 [==============================] - 0s 1ms/step - loss: 0.0738 - accuracy: 0.9741\n",
      "Epoch 70/100\n",
      "17/17 [==============================] - 0s 1ms/step - loss: 0.0814 - accuracy: 0.9745\n",
      "Epoch 71/100\n",
      "17/17 [==============================] - 0s 1ms/step - loss: 0.0708 - accuracy: 0.9776\n",
      "Epoch 72/100\n",
      "17/17 [==============================] - 0s 1ms/step - loss: 0.0678 - accuracy: 0.9862\n",
      "Epoch 73/100\n",
      "17/17 [==============================] - 0s 935us/step - loss: 0.0923 - accuracy: 0.9699\n",
      "Epoch 74/100\n",
      "17/17 [==============================] - 0s 935us/step - loss: 0.1052 - accuracy: 0.9635\n",
      "Epoch 75/100\n",
      "17/17 [==============================] - 0s 810us/step - loss: 0.0683 - accuracy: 0.9800\n",
      "Epoch 76/100\n",
      "17/17 [==============================] - 0s 1ms/step - loss: 0.0683 - accuracy: 0.9778\n",
      "Epoch 77/100\n",
      "17/17 [==============================] - 0s 873us/step - loss: 0.0671 - accuracy: 0.9777\n",
      "Epoch 78/100\n",
      "17/17 [==============================] - 0s 873us/step - loss: 0.0685 - accuracy: 0.9735\n",
      "Epoch 79/100\n",
      "17/17 [==============================] - 0s 906us/step - loss: 0.1009 - accuracy: 0.9691\n",
      "Epoch 80/100\n",
      "17/17 [==============================] - 0s 935us/step - loss: 0.0569 - accuracy: 0.9809\n",
      "Epoch 81/100\n",
      "17/17 [==============================] - 0s 872us/step - loss: 0.0523 - accuracy: 0.9857\n",
      "Epoch 82/100\n",
      "17/17 [==============================] - 0s 874us/step - loss: 0.0622 - accuracy: 0.9765\n",
      "Epoch 83/100\n",
      "17/17 [==============================] - 0s 812us/step - loss: 0.0776 - accuracy: 0.9764\n",
      "Epoch 84/100\n",
      "17/17 [==============================] - 0s 935us/step - loss: 0.0655 - accuracy: 0.9846\n",
      "Epoch 85/100\n",
      "17/17 [==============================] - 0s 1ms/step - loss: 0.0876 - accuracy: 0.9719\n",
      "Epoch 86/100\n",
      "17/17 [==============================] - 0s 1ms/step - loss: 0.0788 - accuracy: 0.9790\n",
      "Epoch 87/100\n",
      "17/17 [==============================] - 0s 1ms/step - loss: 0.0590 - accuracy: 0.9854\n",
      "Epoch 88/100\n",
      "17/17 [==============================] - 0s 1ms/step - loss: 0.0691 - accuracy: 0.9719\n",
      "Epoch 89/100\n",
      "17/17 [==============================] - 0s 997us/step - loss: 0.0875 - accuracy: 0.9764\n",
      "Epoch 90/100\n",
      "17/17 [==============================] - 0s 1ms/step - loss: 0.0488 - accuracy: 0.9833\n",
      "Epoch 91/100\n",
      "17/17 [==============================] - 0s 1ms/step - loss: 0.0564 - accuracy: 0.9817\n",
      "Epoch 92/100\n",
      "17/17 [==============================] - 0s 1ms/step - loss: 0.0530 - accuracy: 0.9880\n",
      "Epoch 93/100\n",
      "17/17 [==============================] - 0s 1ms/step - loss: 0.0462 - accuracy: 0.9864\n",
      "Epoch 94/100\n",
      "17/17 [==============================] - 0s 1ms/step - loss: 0.0487 - accuracy: 0.9902\n",
      "Epoch 95/100\n",
      "17/17 [==============================] - 0s 873us/step - loss: 0.0638 - accuracy: 0.9859\n",
      "Epoch 96/100\n",
      "17/17 [==============================] - 0s 873us/step - loss: 0.0436 - accuracy: 0.9887\n",
      "Epoch 97/100\n",
      "17/17 [==============================] - 0s 872us/step - loss: 0.0604 - accuracy: 0.9857\n",
      "Epoch 98/100\n",
      "17/17 [==============================] - 0s 935us/step - loss: 0.0537 - accuracy: 0.9828\n",
      "Epoch 99/100\n",
      "17/17 [==============================] - 0s 935us/step - loss: 0.0669 - accuracy: 0.9814\n",
      "Epoch 100/100\n",
      "17/17 [==============================] - 0s 1ms/step - loss: 0.0814 - accuracy: 0.9747\n"
     ]
    },
    {
     "data": {
      "text/plain": [
       "<tensorflow.python.keras.callbacks.History at 0x1fe30bdc160>"
      ]
     },
     "execution_count": 123,
     "metadata": {},
     "output_type": "execute_result"
    }
   ],
   "source": [
    "# Training\n",
    "ann.fit(X_train, y_train, batch_size=32, epochs=100)"
   ]
  },
  {
   "cell_type": "markdown",
   "metadata": {},
   "source": [
    "&nbsp;\n",
    "\n",
    "The highest accuracy the NN yielded was ~ 0.9902.\n",
    "\n",
    "&nbsp;"
   ]
  },
  {
   "cell_type": "code",
   "execution_count": 41,
   "metadata": {},
   "outputs": [
    {
     "name": "stdout",
     "output_type": "stream",
     "text": [
      "Model: \"sequential\"\n",
      "_________________________________________________________________\n",
      "Layer (type)                 Output Shape              Param #   \n",
      "=================================================================\n",
      "dense (Dense)                (None, 6)                 204       \n",
      "_________________________________________________________________\n",
      "dense_1 (Dense)              (None, 6)                 42        \n",
      "_________________________________________________________________\n",
      "dense_2 (Dense)              (None, 1)                 7         \n",
      "=================================================================\n",
      "Total params: 253\n",
      "Trainable params: 253\n",
      "Non-trainable params: 0\n",
      "_________________________________________________________________\n",
      "None\n"
     ]
    }
   ],
   "source": [
    "# NN summary\n",
    "\n",
    "print(ann.summary())"
   ]
  },
  {
   "cell_type": "code",
   "execution_count": 25,
   "metadata": {},
   "outputs": [],
   "source": [
    "# NN visualization\n",
    "\n",
    "ann_viz(ann, title=\"Cervical cancer prediction neural network\")"
   ]
  },
  {
   "cell_type": "markdown",
   "metadata": {},
   "source": [
    "<img src=\"../img/network.gv-1.png\">\n"
   ]
  }
 ],
 "metadata": {
  "kernelspec": {
   "display_name": "Python 3",
   "language": "python",
   "name": "python3"
  },
  "language_info": {
   "codemirror_mode": {
    "name": "ipython",
    "version": 3
   },
   "file_extension": ".py",
   "mimetype": "text/x-python",
   "name": "python",
   "nbconvert_exporter": "python",
   "pygments_lexer": "ipython3",
   "version": "3.8.5"
  },
  "toc": {
   "base_numbering": 1,
   "nav_menu": {},
   "number_sections": false,
   "sideBar": true,
   "skip_h1_title": true,
   "title_cell": "Table of Contents",
   "title_sidebar": "Contents",
   "toc_cell": true,
   "toc_position": {},
   "toc_section_display": true,
   "toc_window_display": true
  }
 },
 "nbformat": 4,
 "nbformat_minor": 4
}
